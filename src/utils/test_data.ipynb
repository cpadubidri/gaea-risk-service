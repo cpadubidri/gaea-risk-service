{
 "cells": [
  {
   "cell_type": "code",
   "execution_count": 1,
   "metadata": {},
   "outputs": [],
   "source": [
    "import geopandas as gpd\n",
    "\n",
    "import pandas as pd\n",
    "\n",
    "import os"
   ]
  },
  {
   "cell_type": "code",
   "execution_count": 2,
   "metadata": {},
   "outputs": [
    {
     "data": {
      "text/html": [
       "<div>\n",
       "<style scoped>\n",
       "    .dataframe tbody tr th:only-of-type {\n",
       "        vertical-align: middle;\n",
       "    }\n",
       "\n",
       "    .dataframe tbody tr th {\n",
       "        vertical-align: top;\n",
       "    }\n",
       "\n",
       "    .dataframe thead th {\n",
       "        text-align: right;\n",
       "    }\n",
       "</style>\n",
       "<table border=\"1\" class=\"dataframe\">\n",
       "  <thead>\n",
       "    <tr style=\"text-align: right;\">\n",
       "      <th></th>\n",
       "      <th>Collateral_ID</th>\n",
       "      <th>Property_Type</th>\n",
       "      <th>Registration_Number</th>\n",
       "      <th>Country</th>\n",
       "      <th>Periphery</th>\n",
       "      <th>City</th>\n",
       "      <th>Village</th>\n",
       "      <th>Sheet_Plan</th>\n",
       "      <th>Parcel</th>\n",
       "    </tr>\n",
       "  </thead>\n",
       "  <tbody>\n",
       "    <tr>\n",
       "      <th>0</th>\n",
       "      <td>200756</td>\n",
       "      <td>House</td>\n",
       "      <td>0/16919</td>\n",
       "      <td>Cyprus</td>\n",
       "      <td>Nicosia</td>\n",
       "      <td>ΔΗΜΟΣ ΣΤΡΟΒΟΛΟΥ</td>\n",
       "      <td>ΔΗΜΟΣ ΣΤΡΟΒΟΛΟΥ</td>\n",
       "      <td>30/05W1</td>\n",
       "      <td>4424</td>\n",
       "    </tr>\n",
       "    <tr>\n",
       "      <th>1</th>\n",
       "      <td>200727</td>\n",
       "      <td>House</td>\n",
       "      <td>0/12752</td>\n",
       "      <td>Cyprus</td>\n",
       "      <td>Larnaca</td>\n",
       "      <td>ΒΟΡΟΚΛΙΝΗ</td>\n",
       "      <td>ΒΟΡΟΚΛΙΝΗ</td>\n",
       "      <td>0/2-260-373</td>\n",
       "      <td>501</td>\n",
       "    </tr>\n",
       "    <tr>\n",
       "      <th>2</th>\n",
       "      <td>201465</td>\n",
       "      <td>Land</td>\n",
       "      <td>0/4846</td>\n",
       "      <td>Cyprus</td>\n",
       "      <td>Nicosia</td>\n",
       "      <td>ΚΑΤΩ ΠΥΡΓΟΣ</td>\n",
       "      <td>ΚΑΤΩ ΠΥΡΓΟΣ</td>\n",
       "      <td>0/2-170-394</td>\n",
       "      <td>57</td>\n",
       "    </tr>\n",
       "    <tr>\n",
       "      <th>3</th>\n",
       "      <td>201034</td>\n",
       "      <td>Flat</td>\n",
       "      <td>0/26946</td>\n",
       "      <td>Cyprus</td>\n",
       "      <td>Limassol</td>\n",
       "      <td>ΔΗΜΟΣ ΥΨΩΝΑ</td>\n",
       "      <td>ΔΗΜΟΣ ΥΨΩΝΑ</td>\n",
       "      <td>53/55</td>\n",
       "      <td>3602</td>\n",
       "    </tr>\n",
       "    <tr>\n",
       "      <th>4</th>\n",
       "      <td>201731</td>\n",
       "      <td>House</td>\n",
       "      <td>0/29198</td>\n",
       "      <td>Cyprus</td>\n",
       "      <td>Paphos</td>\n",
       "      <td>ΔΗΜΟΣ ΠΑΦΟΥ</td>\n",
       "      <td>ΔΗΜΟΣ ΠΑΦΟΥ</td>\n",
       "      <td>0/2-146-349</td>\n",
       "      <td>649</td>\n",
       "    </tr>\n",
       "    <tr>\n",
       "      <th>...</th>\n",
       "      <td>...</td>\n",
       "      <td>...</td>\n",
       "      <td>...</td>\n",
       "      <td>...</td>\n",
       "      <td>...</td>\n",
       "      <td>...</td>\n",
       "      <td>...</td>\n",
       "      <td>...</td>\n",
       "      <td>...</td>\n",
       "    </tr>\n",
       "    <tr>\n",
       "      <th>788</th>\n",
       "      <td>201064</td>\n",
       "      <td>House</td>\n",
       "      <td>4/271</td>\n",
       "      <td>Cyprus</td>\n",
       "      <td>Limassol</td>\n",
       "      <td>ΔΗΜΟΣ ΥΨΩΝΑ</td>\n",
       "      <td>ΔΗΜΟΣ ΥΨΩΝΑ</td>\n",
       "      <td>0/2-196-338</td>\n",
       "      <td>192</td>\n",
       "    </tr>\n",
       "    <tr>\n",
       "      <th>789</th>\n",
       "      <td>200560</td>\n",
       "      <td>House</td>\n",
       "      <td>0/13459</td>\n",
       "      <td>Cyprus</td>\n",
       "      <td>Limassol</td>\n",
       "      <td>ΔΗΜΟΣ ΑΓΙΟΥ ΑΘΑΝΑΣΙΟΥ</td>\n",
       "      <td>ΔΗΜΟΣ ΑΓΙΟΥ ΑΘΑΝΑΣΙΟΥ</td>\n",
       "      <td>0/2-205-343</td>\n",
       "      <td>108</td>\n",
       "    </tr>\n",
       "    <tr>\n",
       "      <th>790</th>\n",
       "      <td>37999</td>\n",
       "      <td>House</td>\n",
       "      <td>6718</td>\n",
       "      <td>Cyprus</td>\n",
       "      <td>Larnaca</td>\n",
       "      <td>ΒΑΡΟΚΛΙΝΗ</td>\n",
       "      <td>ΒΟΡΟΚΛΙΝΗ</td>\n",
       "      <td>ΧLI/26</td>\n",
       "      <td>408</td>\n",
       "    </tr>\n",
       "    <tr>\n",
       "      <th>791</th>\n",
       "      <td>200755</td>\n",
       "      <td>Flat</td>\n",
       "      <td>3/508</td>\n",
       "      <td>Cyprus</td>\n",
       "      <td>Nicosia</td>\n",
       "      <td>ΔΗΜΟΣ ΣΤΡΟΒΟΛΟΥ</td>\n",
       "      <td>ΔΗΜΟΣ ΣΤΡΟΒΟΛΟΥ</td>\n",
       "      <td>21/1012V05</td>\n",
       "      <td>ΕΠΙ 400 &amp; 460</td>\n",
       "    </tr>\n",
       "    <tr>\n",
       "      <th>792</th>\n",
       "      <td>200970</td>\n",
       "      <td>House</td>\n",
       "      <td>3/94</td>\n",
       "      <td>Cyprus</td>\n",
       "      <td>Limassol</td>\n",
       "      <td>ΔΗΜΟΣ ΥΨΩΝΑ</td>\n",
       "      <td>ΔΗΜΟΣ ΥΨΩΝΑ</td>\n",
       "      <td>0/2-195-337</td>\n",
       "      <td>52</td>\n",
       "    </tr>\n",
       "  </tbody>\n",
       "</table>\n",
       "<p>793 rows × 9 columns</p>\n",
       "</div>"
      ],
      "text/plain": [
       "     Collateral_ID Property_Type Registration_Number Country Periphery  \\\n",
       "0           200756         House             0/16919  Cyprus   Nicosia   \n",
       "1           200727         House             0/12752  Cyprus   Larnaca   \n",
       "2           201465          Land              0/4846  Cyprus   Nicosia   \n",
       "3           201034          Flat             0/26946  Cyprus  Limassol   \n",
       "4           201731         House             0/29198  Cyprus    Paphos   \n",
       "..             ...           ...                 ...     ...       ...   \n",
       "788         201064         House               4/271  Cyprus  Limassol   \n",
       "789         200560         House             0/13459  Cyprus  Limassol   \n",
       "790          37999         House                6718  Cyprus   Larnaca   \n",
       "791         200755          Flat               3/508  Cyprus   Nicosia   \n",
       "792         200970         House                3/94  Cyprus  Limassol   \n",
       "\n",
       "                      City                Village   Sheet_Plan         Parcel  \n",
       "0          ΔΗΜΟΣ ΣΤΡΟΒΟΛΟΥ        ΔΗΜΟΣ ΣΤΡΟΒΟΛΟΥ      30/05W1           4424  \n",
       "1                ΒΟΡΟΚΛΙΝΗ              ΒΟΡΟΚΛΙΝΗ  0/2-260-373            501  \n",
       "2              ΚΑΤΩ ΠΥΡΓΟΣ            ΚΑΤΩ ΠΥΡΓΟΣ  0/2-170-394             57  \n",
       "3              ΔΗΜΟΣ ΥΨΩΝΑ            ΔΗΜΟΣ ΥΨΩΝΑ        53/55           3602  \n",
       "4              ΔΗΜΟΣ ΠΑΦΟΥ            ΔΗΜΟΣ ΠΑΦΟΥ  0/2-146-349            649  \n",
       "..                     ...                    ...          ...            ...  \n",
       "788            ΔΗΜΟΣ ΥΨΩΝΑ            ΔΗΜΟΣ ΥΨΩΝΑ  0/2-196-338            192  \n",
       "789  ΔΗΜΟΣ ΑΓΙΟΥ ΑΘΑΝΑΣΙΟΥ  ΔΗΜΟΣ ΑΓΙΟΥ ΑΘΑΝΑΣΙΟΥ  0/2-205-343            108  \n",
       "790              ΒΑΡΟΚΛΙΝΗ              ΒΟΡΟΚΛΙΝΗ       ΧLI/26            408  \n",
       "791        ΔΗΜΟΣ ΣΤΡΟΒΟΛΟΥ        ΔΗΜΟΣ ΣΤΡΟΒΟΛΟΥ   21/1012V05  ΕΠΙ 400 & 460  \n",
       "792            ΔΗΜΟΣ ΥΨΩΝΑ            ΔΗΜΟΣ ΥΨΩΝΑ  0/2-195-337             52  \n",
       "\n",
       "[793 rows x 9 columns]"
      ]
     },
     "execution_count": 2,
     "metadata": {},
     "output_type": "execute_result"
    }
   ],
   "source": [
    "data_path = '../property-data/PhysicalRiskSheetPlan.xlsx'\n",
    "\n",
    "\n",
    "prop_data = pd.read_excel(data_path, sheet_name='Data')   \n",
    "\n",
    "# prop_data = prop_data[['Property ID', 'Property Name', 'Address', 'City', 'State', 'Zip', 'Latitude', 'Longitude', 'Risk Score', 'Risk Category']]\n",
    "\n",
    "prop_data"
   ]
  },
  {
   "cell_type": "code",
   "execution_count": 70,
   "metadata": {},
   "outputs": [
    {
     "name": "stdout",
     "output_type": "stream",
     "text": [
      "OK\n",
      "OK\n",
      "OK\n",
      "OK\n",
      "Sheet 0, Plan 2-146-349, Parcel 649\n",
      "OK\n",
      "OK\n",
      "OK\n",
      "OK\n",
      "OK\n",
      "OK\n",
      "OK\n",
      "Sheet 45, Plan 42, Parcel ΕΠΙ 120\n",
      "OK\n",
      "OK\n",
      "OK\n",
      "Sheet 0, Plan 1-1490-3510, Parcel 478\n",
      "OK\n",
      "Sheet 45, Plan 6020V03, Parcel ΕΠΙ 114\n",
      "OK\n",
      "Sheet 51, Plan 38, Parcel ΕΠΙ 444\n"
     ]
    }
   ],
   "source": [
    "sheets = []\n",
    "plans = []\n",
    "parcels = []\n",
    "i=0\n",
    "for index, data_ in prop_data.iterrows():\n",
    "    sp_data  = data_['Sheet_Plan'].split('/')\n",
    "    # print(sheet})\n",
    "\n",
    "    filt_data = geo_data[\n",
    "        (geo_data['PLANS'] == sp_data[1]) &\n",
    "        (geo_data['SHEET'] == int(sp_data[0])) &\n",
    "        (geo_data['PARCEL_NBR'].astype(str) == data_['Parcel'])\n",
    "        ]\n",
    "\n",
    "    if not filt_data['SBPI_ID_NO'].empty:\n",
    "        print(\"OK\")\n",
    "    else:\n",
    "        print(f\"Sheet {sp_data[0]}, Plan {sp_data[1]}, Parcel {data_['Parcel']}\")\n",
    "\n",
    "    if i==20:\n",
    "        break\n",
    "    i+=1"
   ]
  },
  {
   "cell_type": "code",
   "execution_count": 81,
   "metadata": {},
   "outputs": [
    {
     "name": "stderr",
     "output_type": "stream",
     "text": [
      "100%|██████████| 793/793 [08:08<00:00,  1.62it/s]"
     ]
    },
    {
     "name": "stdout",
     "output_type": "stream",
     "text": [
      "All rows from prop_data where no match was found saved to 'not_found_data.xlsx'\n"
     ]
    },
    {
     "name": "stderr",
     "output_type": "stream",
     "text": [
      "\n"
     ]
    }
   ],
   "source": [
    "import pandas as pd\n",
    "from tqdm import tqdm\n",
    "\n",
    "# Initialize variables\n",
    "not_found_data = pd.DataFrame(columns=prop_data.columns)\n",
    "\n",
    "for index, data_ in tqdm(prop_data.iterrows(), total=len(prop_data)):\n",
    "    # Handle different cases for 'Sheet_Plan'\n",
    "    if isinstance(data_['Sheet_Plan'], str):\n",
    "        sp_data = data_['Sheet_Plan'].split('/')\n",
    "    else:\n",
    "        # If not a string, treat it as a float/int with PLAN as the value and Sheet as 0\n",
    "        sp_data = ['0', str(data_['Sheet_Plan'])]\n",
    "\n",
    "    # Ensure sp_data has at least two elements; fill with '0' if not\n",
    "    if len(sp_data) < 2:\n",
    "        sp_data = ['0', '0']\n",
    "\n",
    "    # Try to convert sp_data[0] to an integer, fallback to treating it as a string if it fails\n",
    "    try:\n",
    "        sheet_value = int(sp_data[0])\n",
    "    except ValueError:\n",
    "        sheet_value = sp_data[0]  # Treat as a string if it cannot be converted\n",
    "\n",
    "    # Filter the geo_data based on conditions\n",
    "    filt_data = geo_data[\n",
    "        (geo_data['PLANS'] == sp_data[1]) &\n",
    "        (geo_data['SHEET'] == sheet_value) &  # Match either as an int or string\n",
    "        (geo_data['PARCEL_NBR'].astype(str) == str(data_['Parcel']))\n",
    "    ]\n",
    "\n",
    "    if not filt_data['SBPI_ID_NO'].empty:\n",
    "        # Match found\n",
    "        pass\n",
    "    else:\n",
    "        # Append the current row from prop_data to not_found_data\n",
    "        not_found_data = pd.concat([not_found_data, pd.DataFrame([data_])], ignore_index=True)\n",
    "\n",
    "# Save all rows with no matching filt_data to an Excel file\n",
    "not_found_data.to_excel(\"not_found_data.xlsx\", index=False, engine='openpyxl')\n",
    "print(f\"All rows from prop_data where no match was found saved to 'not_found_data.xlsx'\")\n"
   ]
  },
  {
   "cell_type": "code",
   "execution_count": 28,
   "metadata": {},
   "outputs": [
    {
     "data": {
      "text/plain": [
       "(['30'], ['05W1'], ['4424'])"
      ]
     },
     "execution_count": 28,
     "metadata": {},
     "output_type": "execute_result"
    }
   ],
   "source": [
    "sheets, plans, parcels"
   ]
  },
  {
   "cell_type": "code",
   "execution_count": 54,
   "metadata": {},
   "outputs": [
    {
     "data": {
      "text/plain": [
       "4424.0"
      ]
     },
     "execution_count": 54,
     "metadata": {},
     "output_type": "execute_result"
    }
   ],
   "source": [
    "float(parcels[0])"
   ]
  },
  {
   "cell_type": "code",
   "execution_count": 60,
   "metadata": {},
   "outputs": [
    {
     "data": {
      "text/html": [
       "<div>\n",
       "<style scoped>\n",
       "    .dataframe tbody tr th:only-of-type {\n",
       "        vertical-align: middle;\n",
       "    }\n",
       "\n",
       "    .dataframe tbody tr th {\n",
       "        vertical-align: top;\n",
       "    }\n",
       "\n",
       "    .dataframe thead th {\n",
       "        text-align: right;\n",
       "    }\n",
       "</style>\n",
       "<table border=\"1\" class=\"dataframe\">\n",
       "  <thead>\n",
       "    <tr style=\"text-align: right;\">\n",
       "      <th></th>\n",
       "      <th>SBPI_ID_NO</th>\n",
       "      <th>DIST_CODE</th>\n",
       "      <th>VIL_CODE</th>\n",
       "      <th>QRTR_CODE</th>\n",
       "      <th>BLCK_CODE</th>\n",
       "      <th>SHEET</th>\n",
       "      <th>PLANS</th>\n",
       "      <th>SRC_SL_COD</th>\n",
       "      <th>PARCEL_NBR</th>\n",
       "      <th>SOURCE</th>\n",
       "      <th>SHAPE_STAr</th>\n",
       "      <th>SHAPE_STLe</th>\n",
       "      <th>SRC_CODE</th>\n",
       "      <th>DLS_PARCEL</th>\n",
       "      <th>x</th>\n",
       "      <th>y</th>\n",
       "      <th>area</th>\n",
       "      <th>geometry</th>\n",
       "    </tr>\n",
       "  </thead>\n",
       "  <tbody>\n",
       "    <tr>\n",
       "      <th>1438576</th>\n",
       "      <td>13417836.0</td>\n",
       "      <td>1</td>\n",
       "      <td>12</td>\n",
       "      <td>4</td>\n",
       "      <td>7</td>\n",
       "      <td>30</td>\n",
       "      <td>05W1</td>\n",
       "      <td>4</td>\n",
       "      <td>4424</td>\n",
       "      <td>DCDB</td>\n",
       "      <td>734.313026</td>\n",
       "      <td>109.828627</td>\n",
       "      <td>4</td>\n",
       "      <td>734.0</td>\n",
       "      <td>33.3232</td>\n",
       "      <td>35.1319</td>\n",
       "      <td>734.37</td>\n",
       "      <td>POLYGON ((229476.493 389095.891, 229461.309 38...</td>\n",
       "    </tr>\n",
       "  </tbody>\n",
       "</table>\n",
       "</div>"
      ],
      "text/plain": [
       "         SBPI_ID_NO  DIST_CODE  VIL_CODE  QRTR_CODE  BLCK_CODE  SHEET PLANS  \\\n",
       "1438576  13417836.0          1        12          4          7     30  05W1   \n",
       "\n",
       "         SRC_SL_COD  PARCEL_NBR SOURCE  SHAPE_STAr  SHAPE_STLe  SRC_CODE  \\\n",
       "1438576           4        4424   DCDB  734.313026  109.828627         4   \n",
       "\n",
       "         DLS_PARCEL        x        y    area  \\\n",
       "1438576       734.0  33.3232  35.1319  734.37   \n",
       "\n",
       "                                                  geometry  \n",
       "1438576  POLYGON ((229476.493 389095.891, 229461.309 38...  "
      ]
     },
     "execution_count": 60,
     "metadata": {},
     "output_type": "execute_result"
    }
   ],
   "source": [
    "filtered_data = \n",
    "filtered_data"
   ]
  },
  {
   "cell_type": "code",
   "execution_count": 3,
   "metadata": {},
   "outputs": [
    {
     "data": {
      "text/html": [
       "<div>\n",
       "<style scoped>\n",
       "    .dataframe tbody tr th:only-of-type {\n",
       "        vertical-align: middle;\n",
       "    }\n",
       "\n",
       "    .dataframe tbody tr th {\n",
       "        vertical-align: top;\n",
       "    }\n",
       "\n",
       "    .dataframe thead th {\n",
       "        text-align: right;\n",
       "    }\n",
       "</style>\n",
       "<table border=\"1\" class=\"dataframe\">\n",
       "  <thead>\n",
       "    <tr style=\"text-align: right;\">\n",
       "      <th></th>\n",
       "      <th>SBPI_ID_NO</th>\n",
       "      <th>DIST_CODE</th>\n",
       "      <th>VIL_CODE</th>\n",
       "      <th>QRTR_CODE</th>\n",
       "      <th>BLCK_CODE</th>\n",
       "      <th>SHEET</th>\n",
       "      <th>PLANS</th>\n",
       "      <th>SRC_SL_COD</th>\n",
       "      <th>PARCEL_NBR</th>\n",
       "      <th>SOURCE</th>\n",
       "      <th>SHAPE_STAr</th>\n",
       "      <th>SHAPE_STLe</th>\n",
       "      <th>SRC_CODE</th>\n",
       "      <th>DLS_PARCEL</th>\n",
       "      <th>x</th>\n",
       "      <th>y</th>\n",
       "      <th>area</th>\n",
       "      <th>geometry</th>\n",
       "    </tr>\n",
       "  </thead>\n",
       "  <tbody>\n",
       "    <tr>\n",
       "      <th>0</th>\n",
       "      <td>74826.0</td>\n",
       "      <td>1</td>\n",
       "      <td>11</td>\n",
       "      <td>0</td>\n",
       "      <td>4</td>\n",
       "      <td>21</td>\n",
       "      <td>60E2</td>\n",
       "      <td>4</td>\n",
       "      <td>2681</td>\n",
       "      <td>DCDB</td>\n",
       "      <td>533.688950</td>\n",
       "      <td>92.643951</td>\n",
       "      <td>1</td>\n",
       "      <td>521.0</td>\n",
       "      <td>33.3083</td>\n",
       "      <td>35.1450</td>\n",
       "      <td>533.731</td>\n",
       "      <td>POLYGON ((228110.368 390542.603, 228108.945 39...</td>\n",
       "    </tr>\n",
       "    <tr>\n",
       "      <th>1</th>\n",
       "      <td>77931.0</td>\n",
       "      <td>1</td>\n",
       "      <td>11</td>\n",
       "      <td>0</td>\n",
       "      <td>4</td>\n",
       "      <td>21</td>\n",
       "      <td>60E2</td>\n",
       "      <td>4</td>\n",
       "      <td>4783</td>\n",
       "      <td>DCDB</td>\n",
       "      <td>294.159897</td>\n",
       "      <td>69.667298</td>\n",
       "      <td>1</td>\n",
       "      <td>277.0</td>\n",
       "      <td>33.3079</td>\n",
       "      <td>35.1451</td>\n",
       "      <td>294.183</td>\n",
       "      <td>POLYGON ((228048.032 390539.326, 228048.094 39...</td>\n",
       "    </tr>\n",
       "    <tr>\n",
       "      <th>2</th>\n",
       "      <td>76774.0</td>\n",
       "      <td>1</td>\n",
       "      <td>11</td>\n",
       "      <td>0</td>\n",
       "      <td>4</td>\n",
       "      <td>21</td>\n",
       "      <td>60E2</td>\n",
       "      <td>4</td>\n",
       "      <td>4293</td>\n",
       "      <td>DCDB</td>\n",
       "      <td>565.920998</td>\n",
       "      <td>97.476608</td>\n",
       "      <td>1</td>\n",
       "      <td>576.0</td>\n",
       "      <td>33.3074</td>\n",
       "      <td>35.1450</td>\n",
       "      <td>565.966</td>\n",
       "      <td>POLYGON ((228025.132 390518.172, 228021.825 39...</td>\n",
       "    </tr>\n",
       "    <tr>\n",
       "      <th>3</th>\n",
       "      <td>74829.0</td>\n",
       "      <td>1</td>\n",
       "      <td>11</td>\n",
       "      <td>0</td>\n",
       "      <td>4</td>\n",
       "      <td>21</td>\n",
       "      <td>60E2</td>\n",
       "      <td>4</td>\n",
       "      <td>2684</td>\n",
       "      <td>DCDB</td>\n",
       "      <td>519.310242</td>\n",
       "      <td>91.488400</td>\n",
       "      <td>1</td>\n",
       "      <td>530.0</td>\n",
       "      <td>33.3091</td>\n",
       "      <td>35.1450</td>\n",
       "      <td>519.351</td>\n",
       "      <td>POLYGON ((228182.590 390539.314, 228181.111 39...</td>\n",
       "    </tr>\n",
       "    <tr>\n",
       "      <th>4</th>\n",
       "      <td>74830.0</td>\n",
       "      <td>1</td>\n",
       "      <td>11</td>\n",
       "      <td>0</td>\n",
       "      <td>4</td>\n",
       "      <td>21</td>\n",
       "      <td>60E2</td>\n",
       "      <td>4</td>\n",
       "      <td>2685</td>\n",
       "      <td>DCDB</td>\n",
       "      <td>525.922028</td>\n",
       "      <td>92.063278</td>\n",
       "      <td>1</td>\n",
       "      <td>530.0</td>\n",
       "      <td>33.3093</td>\n",
       "      <td>35.1450</td>\n",
       "      <td>525.964</td>\n",
       "      <td>POLYGON ((228203.517 390538.361, 228202.273 39...</td>\n",
       "    </tr>\n",
       "  </tbody>\n",
       "</table>\n",
       "</div>"
      ],
      "text/plain": [
       "   SBPI_ID_NO  DIST_CODE  VIL_CODE  QRTR_CODE  BLCK_CODE  SHEET PLANS  \\\n",
       "0     74826.0          1        11          0          4     21  60E2   \n",
       "1     77931.0          1        11          0          4     21  60E2   \n",
       "2     76774.0          1        11          0          4     21  60E2   \n",
       "3     74829.0          1        11          0          4     21  60E2   \n",
       "4     74830.0          1        11          0          4     21  60E2   \n",
       "\n",
       "   SRC_SL_COD  PARCEL_NBR SOURCE  SHAPE_STAr  SHAPE_STLe  SRC_CODE  \\\n",
       "0           4        2681   DCDB  533.688950   92.643951         1   \n",
       "1           4        4783   DCDB  294.159897   69.667298         1   \n",
       "2           4        4293   DCDB  565.920998   97.476608         1   \n",
       "3           4        2684   DCDB  519.310242   91.488400         1   \n",
       "4           4        2685   DCDB  525.922028   92.063278         1   \n",
       "\n",
       "   DLS_PARCEL        x        y     area  \\\n",
       "0       521.0  33.3083  35.1450  533.731   \n",
       "1       277.0  33.3079  35.1451  294.183   \n",
       "2       576.0  33.3074  35.1450  565.966   \n",
       "3       530.0  33.3091  35.1450  519.351   \n",
       "4       530.0  33.3093  35.1450  525.964   \n",
       "\n",
       "                                            geometry  \n",
       "0  POLYGON ((228110.368 390542.603, 228108.945 39...  \n",
       "1  POLYGON ((228048.032 390539.326, 228048.094 39...  \n",
       "2  POLYGON ((228025.132 390518.172, 228021.825 39...  \n",
       "3  POLYGON ((228182.590 390539.314, 228181.111 39...  \n",
       "4  POLYGON ((228203.517 390538.361, 228202.273 39...  "
      ]
     },
     "execution_count": 3,
     "metadata": {},
     "output_type": "execute_result"
    }
   ],
   "source": [
    "geo_data = gpd.read_file('../GIS-LAYERS/dls_parcels/DLS_Parcels.shp')\n",
    "\n",
    "geo_data.head(5)"
   ]
  },
  {
   "cell_type": "code",
   "execution_count": 1,
   "metadata": {},
   "outputs": [],
   "source": [
    "import pandas as pd"
   ]
  },
  {
   "cell_type": "code",
   "execution_count": 4,
   "metadata": {},
   "outputs": [
    {
     "name": "stdout",
     "output_type": "stream",
     "text": [
      "719\n"
     ]
    },
    {
     "data": {
      "text/html": [
       "<div>\n",
       "<style scoped>\n",
       "    .dataframe tbody tr th:only-of-type {\n",
       "        vertical-align: middle;\n",
       "    }\n",
       "\n",
       "    .dataframe tbody tr th {\n",
       "        vertical-align: top;\n",
       "    }\n",
       "\n",
       "    .dataframe thead th {\n",
       "        text-align: right;\n",
       "    }\n",
       "</style>\n",
       "<table border=\"1\" class=\"dataframe\">\n",
       "  <thead>\n",
       "    <tr style=\"text-align: right;\">\n",
       "      <th></th>\n",
       "      <th>Collateral_ID</th>\n",
       "      <th>Property_Type</th>\n",
       "      <th>Registration_Number</th>\n",
       "      <th>Country</th>\n",
       "      <th>Periphery</th>\n",
       "      <th>City</th>\n",
       "      <th>Village</th>\n",
       "      <th>Sheet_Plan</th>\n",
       "      <th>Parcel</th>\n",
       "    </tr>\n",
       "  </thead>\n",
       "  <tbody>\n",
       "    <tr>\n",
       "      <th>0</th>\n",
       "      <td>200756</td>\n",
       "      <td>House</td>\n",
       "      <td>0/16919</td>\n",
       "      <td>Cyprus</td>\n",
       "      <td>Nicosia</td>\n",
       "      <td>ΔΗΜΟΣ ΣΤΡΟΒΟΛΟΥ</td>\n",
       "      <td>ΔΗΜΟΣ ΣΤΡΟΒΟΛΟΥ</td>\n",
       "      <td>30/05W1</td>\n",
       "      <td>4424</td>\n",
       "    </tr>\n",
       "    <tr>\n",
       "      <th>1</th>\n",
       "      <td>200727</td>\n",
       "      <td>House</td>\n",
       "      <td>0/12752</td>\n",
       "      <td>Cyprus</td>\n",
       "      <td>Larnaca</td>\n",
       "      <td>ΒΟΡΟΚΛΙΝΗ</td>\n",
       "      <td>ΒΟΡΟΚΛΙΝΗ</td>\n",
       "      <td>0/2-260-373</td>\n",
       "      <td>501</td>\n",
       "    </tr>\n",
       "  </tbody>\n",
       "</table>\n",
       "</div>"
      ],
      "text/plain": [
       "   Collateral_ID Property_Type Registration_Number Country Periphery  \\\n",
       "0         200756         House             0/16919  Cyprus   Nicosia   \n",
       "1         200727         House             0/12752  Cyprus   Larnaca   \n",
       "\n",
       "              City          Village   Sheet_Plan Parcel  \n",
       "0  ΔΗΜΟΣ ΣΤΡΟΒΟΛΟΥ  ΔΗΜΟΣ ΣΤΡΟΒΟΛΟΥ      30/05W1   4424  \n",
       "1        ΒΟΡΟΚΛΙΝΗ        ΒΟΡΟΚΛΙΝΗ  0/2-260-373    501  "
      ]
     },
     "execution_count": 4,
     "metadata": {},
     "output_type": "execute_result"
    }
   ],
   "source": [
    "original_data = pd.read_excel('/home/savvas/SUPER-NAS/USERS/Chirag/PROJECTS/202501-EY-Bank/data/property-data/PhysicalRiskSheetPlan_v2.xlsx')\n",
    "original_data_col_id = original_data[\"Collateral_ID\"]\n",
    "\n",
    "print(len(original_data_col_id))\n",
    "\n",
    "original_data.head(2)"
   ]
  },
  {
   "cell_type": "code",
   "execution_count": 7,
   "metadata": {},
   "outputs": [
    {
     "name": "stdout",
     "output_type": "stream",
     "text": [
      "438\n",
      "438\n"
     ]
    }
   ],
   "source": [
    "data_v1 = pd.read_excel('/home/savvas/SUPER-NAS/USERS/Chirag/PROJECTS/202501-EY-Bank/src/temp/output/PhysicalRiskSheetPlan_directmatch_riskscore.xlsx')\n",
    "data_v1_col_id = data_v1[\"Collateral_ID\"]\n",
    "\n",
    "print(len(data_v1_col_id))\n",
    "\n",
    "# print(len(set(data_v1_col_id)))\n"
   ]
  },
  {
   "cell_type": "code",
   "execution_count": 10,
   "metadata": {},
   "outputs": [
    {
     "name": "stdout",
     "output_type": "stream",
     "text": [
      "281\n"
     ]
    }
   ],
   "source": [
    "filter_data_col_id = list(set(original_data_col_id) - set(data_v1_col_id))\n",
    "print(len(filter_data_col_id))"
   ]
  },
  {
   "cell_type": "code",
   "execution_count": 11,
   "metadata": {},
   "outputs": [
    {
     "name": "stdout",
     "output_type": "stream",
     "text": [
      "291\n"
     ]
    }
   ],
   "source": [
    "data_v2 = pd.read_excel('/home/savvas/SUPER-NAS/USERS/Chirag/PROJECTS/202501-EY-Bank/src/temp/output/PhysicalRiskSheetPlan_processedmatch_riskscore.xlsx')\n",
    "data_v2_col_id = data_v2[\"Collateral_ID\"]\n",
    "\n",
    "print(len(data_v2_col_id))"
   ]
  },
  {
   "cell_type": "code",
   "execution_count": 12,
   "metadata": {},
   "outputs": [
    {
     "name": "stdout",
     "output_type": "stream",
     "text": [
      "10\n"
     ]
    }
   ],
   "source": [
    "filter_data_col_id_2 = list(set(filter_data_col_id) - set(data_v2_col_id))\n",
    "print(len(filter_data_col_id_2))"
   ]
  },
  {
   "cell_type": "code",
   "execution_count": 13,
   "metadata": {},
   "outputs": [
    {
     "data": {
      "text/plain": [
       "[202400, 69095, 83560, 37999, 38000, 38002, 113364, 86261, 108699, 201343]"
      ]
     },
     "execution_count": 13,
     "metadata": {},
     "output_type": "execute_result"
    }
   ],
   "source": [
    "filter_data_col_id_2"
   ]
  },
  {
   "cell_type": "code",
   "execution_count": 31,
   "metadata": {},
   "outputs": [
    {
     "data": {
      "text/html": [
       "<div>\n",
       "<style scoped>\n",
       "    .dataframe tbody tr th:only-of-type {\n",
       "        vertical-align: middle;\n",
       "    }\n",
       "\n",
       "    .dataframe tbody tr th {\n",
       "        vertical-align: top;\n",
       "    }\n",
       "\n",
       "    .dataframe thead th {\n",
       "        text-align: right;\n",
       "    }\n",
       "</style>\n",
       "<table border=\"1\" class=\"dataframe\">\n",
       "  <thead>\n",
       "    <tr style=\"text-align: right;\">\n",
       "      <th></th>\n",
       "      <th>#</th>\n",
       "      <th>Ονομασία Δρόμου/Κοινότητας</th>\n",
       "      <th>Designation of Street/Community</th>\n",
       "      <th>Όριο Δρόμου ΑΠΟ - ΜΕΧΡΙ/Streetlimit FROM - TO</th>\n",
       "      <th>Ταχυδρομικός Κώδικας / Postal Code</th>\n",
       "      <th>Δήμος / Κοινότητα</th>\n",
       "      <th>Municipality / Community</th>\n",
       "      <th>Επαρχία</th>\n",
       "      <th>District</th>\n",
       "      <th>Ταχυδρομική Εξυπηρέτηση μέσω Ταχυδρομικού Γραφείου/Ταχυδρομικού Πρακτορείου</th>\n",
       "      <th>Postal Service through Post Office/Postal Agency</th>\n",
       "      <th>Description</th>\n",
       "      <th>Περιγραφή</th>\n",
       "    </tr>\n",
       "  </thead>\n",
       "  <tbody>\n",
       "    <tr>\n",
       "      <th>0</th>\n",
       "      <td>205</td>\n",
       "      <td>14ης Σεπτεμβρίου</td>\n",
       "      <td>14 Septemvriou</td>\n",
       "      <td>NaN</td>\n",
       "      <td>4760</td>\n",
       "      <td>Όμοδος (το)</td>\n",
       "      <td>Omodos</td>\n",
       "      <td>Λεμεσός</td>\n",
       "      <td>Lemesos</td>\n",
       "      <td>Ταχυδρομικό Πρακτορείο Ομόδους - 4760</td>\n",
       "      <td>Omodos Postal Agency - 4760</td>\n",
       "      <td>NaN</td>\n",
       "      <td>NaN</td>\n",
       "    </tr>\n",
       "    <tr>\n",
       "      <th>1</th>\n",
       "      <td>206</td>\n",
       "      <td>15ης Αυγούστου</td>\n",
       "      <td>15 Avgoustou</td>\n",
       "      <td>NaN</td>\n",
       "      <td>7501</td>\n",
       "      <td>Αβδελλερό</td>\n",
       "      <td>Avdellero</td>\n",
       "      <td>Λάρνακα</td>\n",
       "      <td>Larnaka</td>\n",
       "      <td>Ταχυδρομικό Πρακτορείο Αβδελλερού - 7501</td>\n",
       "      <td>Avdellero Postal Agency - 7501</td>\n",
       "      <td>NaN</td>\n",
       "      <td>NaN</td>\n",
       "    </tr>\n",
       "  </tbody>\n",
       "</table>\n",
       "</div>"
      ],
      "text/plain": [
       "     # Ονομασία Δρόμου/Κοινότητας Designation of Street/Community  \\\n",
       "0  205           14ης Σεπτεμβρίου                  14 Septemvriou   \n",
       "1  206             15ης Αυγούστου                    15 Avgoustou   \n",
       "\n",
       "  Όριο Δρόμου ΑΠΟ - ΜΕΧΡΙ/Streetlimit FROM - TO  \\\n",
       "0                                           NaN   \n",
       "1                                           NaN   \n",
       "\n",
       "   Ταχυδρομικός Κώδικας / Postal Code Δήμος / Κοινότητα  \\\n",
       "0                                4760       Όμοδος (το)   \n",
       "1                                7501         Αβδελλερό   \n",
       "\n",
       "  Municipality / Community  Επαρχία District  \\\n",
       "0                   Omodos  Λεμεσός  Lemesos   \n",
       "1                Avdellero  Λάρνακα  Larnaka   \n",
       "\n",
       "  Ταχυδρομική Εξυπηρέτηση μέσω Ταχυδρομικού Γραφείου/Ταχυδρομικού Πρακτορείου  \\\n",
       "0              Ταχυδρομικό Πρακτορείο Ομόδους - 4760                            \n",
       "1           Ταχυδρομικό Πρακτορείο Αβδελλερού - 7501                            \n",
       "\n",
       "  Postal Service through Post Office/Postal Agency  Description  Περιγραφή  \n",
       "0                      Omodos Postal Agency - 4760          NaN        NaN  \n",
       "1                   Avdellero Postal Agency - 7501          NaN        NaN  "
      ]
     },
     "execution_count": 31,
     "metadata": {},
     "output_type": "execute_result"
    }
   ],
   "source": [
    "postal_code  = pd.read_excel('/home/savvas/SUPER-NAS/USERS/Chirag/PROJECTS/202501-EY-Bank/data/GIS-LAYERS/postal_codes.xlsx')\n",
    "\n",
    "postal_code.head(2)"
   ]
  },
  {
   "cell_type": "code",
   "execution_count": 32,
   "metadata": {},
   "outputs": [
    {
     "data": {
      "text/plain": [
       "1129"
      ]
     },
     "execution_count": 32,
     "metadata": {},
     "output_type": "execute_result"
    }
   ],
   "source": [
    "unique_values = postal_code.drop_duplicates(subset=['Municipality / Community', 'Ταχυδρομικός Κώδικας / Postal Code'])\n",
    "\n",
    "len(unique_values)"
   ]
  },
  {
   "cell_type": "code",
   "execution_count": 35,
   "metadata": {},
   "outputs": [],
   "source": [
    "unique_values.to_excel('/home/savvas/SUPER-NAS/USERS/Chirag/PROJECTS/202501-EY-Bank/data/GIS-LAYERS/postal_codes_v2.xlsx', index=False)"
   ]
  },
  {
   "cell_type": "code",
   "execution_count": 30,
   "metadata": {},
   "outputs": [
    {
     "data": {
      "text/html": [
       "<div>\n",
       "<style scoped>\n",
       "    .dataframe tbody tr th:only-of-type {\n",
       "        vertical-align: middle;\n",
       "    }\n",
       "\n",
       "    .dataframe tbody tr th {\n",
       "        vertical-align: top;\n",
       "    }\n",
       "\n",
       "    .dataframe thead th {\n",
       "        text-align: right;\n",
       "    }\n",
       "</style>\n",
       "<table border=\"1\" class=\"dataframe\">\n",
       "  <thead>\n",
       "    <tr style=\"text-align: right;\">\n",
       "      <th></th>\n",
       "      <th>Municipality / Community</th>\n",
       "      <th>Ταχυδρομικός Κώδικας / Postal Code</th>\n",
       "    </tr>\n",
       "  </thead>\n",
       "  <tbody>\n",
       "    <tr>\n",
       "      <th>0</th>\n",
       "      <td>Omodos</td>\n",
       "      <td>4760</td>\n",
       "    </tr>\n",
       "    <tr>\n",
       "      <th>1</th>\n",
       "      <td>Avdellero</td>\n",
       "      <td>7501</td>\n",
       "    </tr>\n",
       "    <tr>\n",
       "      <th>2</th>\n",
       "      <td>Egkomi Lefkosias</td>\n",
       "      <td>2412</td>\n",
       "    </tr>\n",
       "    <tr>\n",
       "      <th>3</th>\n",
       "      <td>Larnaka</td>\n",
       "      <td>6018</td>\n",
       "    </tr>\n",
       "    <tr>\n",
       "      <th>4</th>\n",
       "      <td>Lefkosia (Pallouriotissa)</td>\n",
       "      <td>1040</td>\n",
       "    </tr>\n",
       "    <tr>\n",
       "      <th>...</th>\n",
       "      <td>...</td>\n",
       "      <td>...</td>\n",
       "    </tr>\n",
       "    <tr>\n",
       "      <th>32958</th>\n",
       "      <td>Chelones</td>\n",
       "      <td>5878</td>\n",
       "    </tr>\n",
       "    <tr>\n",
       "      <th>33031</th>\n",
       "      <td>Choulou</td>\n",
       "      <td>8552</td>\n",
       "    </tr>\n",
       "    <tr>\n",
       "      <th>33486</th>\n",
       "      <td>Chrysida</td>\n",
       "      <td>2730</td>\n",
       "    </tr>\n",
       "    <tr>\n",
       "      <th>33561</th>\n",
       "      <td>Psathi</td>\n",
       "      <td>8749</td>\n",
       "    </tr>\n",
       "    <tr>\n",
       "      <th>33629</th>\n",
       "      <td>Psyllatos</td>\n",
       "      <td>5661</td>\n",
       "    </tr>\n",
       "  </tbody>\n",
       "</table>\n",
       "<p>1129 rows × 2 columns</p>\n",
       "</div>"
      ],
      "text/plain": [
       "        Municipality / Community  Ταχυδρομικός Κώδικας / Postal Code\n",
       "0                         Omodos                                4760\n",
       "1                      Avdellero                                7501\n",
       "2               Egkomi Lefkosias                                2412\n",
       "3                        Larnaka                                6018\n",
       "4      Lefkosia (Pallouriotissa)                                1040\n",
       "...                          ...                                 ...\n",
       "32958                   Chelones                                5878\n",
       "33031                    Choulou                                8552\n",
       "33486                   Chrysida                                2730\n",
       "33561                     Psathi                                8749\n",
       "33629                  Psyllatos                                5661\n",
       "\n",
       "[1129 rows x 2 columns]"
      ]
     },
     "execution_count": 30,
     "metadata": {},
     "output_type": "execute_result"
    }
   ],
   "source": [
    "unique_values"
   ]
  },
  {
   "cell_type": "code",
   "execution_count": 36,
   "metadata": {},
   "outputs": [
    {
     "data": {
      "text/plain": [
       "750"
      ]
     },
     "execution_count": 36,
     "metadata": {},
     "output_type": "execute_result"
    }
   ],
   "source": []
  },
  {
   "cell_type": "code",
   "execution_count": 37,
   "metadata": {},
   "outputs": [
    {
     "data": {
      "text/plain": [
       "1056"
      ]
     },
     "execution_count": 37,
     "metadata": {},
     "output_type": "execute_result"
    }
   ],
   "source": []
  },
  {
   "cell_type": "code",
   "execution_count": 52,
   "metadata": {},
   "outputs": [],
   "source": [
    "risk_data = pd.read_excel('/home/savvas/SUPER-NAS/USERS/Chirag/PROJECTS/202501-EY-Bank/src/temp/PhysicalRiskUniquePostalCodesAddresses_with_risk.xlsx')\n",
    "len(risk_data)\n",
    "\n",
    "original_post_data = pd.read_excel('/home/savvas/SUPER-NAS/USERS/Chirag/PROJECTS/202501-EY-Bank/data/property-data/PhysicalRiskUniquePostalCodesAddresses.xlsx')\n",
    "len(original_post_data)\n",
    "\n",
    "risk_data_postal_code = risk_data['Postal Codes:']\n",
    "issue_post_code = list(set(original_post_data['Postal Codes:']) - set(risk_data_postal_code))\n"
   ]
  },
  {
   "cell_type": "code",
   "execution_count": 54,
   "metadata": {},
   "outputs": [
    {
     "data": {
      "text/plain": [
       "306"
      ]
     },
     "execution_count": 54,
     "metadata": {},
     "output_type": "execute_result"
    }
   ],
   "source": [
    "len(issue_post_code)"
   ]
  },
  {
   "cell_type": "code",
   "execution_count": 55,
   "metadata": {},
   "outputs": [
    {
     "name": "stdout",
     "output_type": "stream",
     "text": [
      "Length of risk_data: 750\n",
      "Length of original_post_data: 1056\n",
      "Issue data saved to /home/savvas/SUPER-NAS/USERS/Chirag/PROJECTS/202501-EY-Bank/src/temp/IssuePostalCodes.xlsx\n",
      "Number of issue postal codes: 306\n",
      "Number of rows in issue data: 306\n"
     ]
    }
   ],
   "source": [
    "import pandas as pd\n",
    "\n",
    "# Load the risk data and original postal data\n",
    "risk_data = pd.read_excel('/home/savvas/SUPER-NAS/USERS/Chirag/PROJECTS/202501-EY-Bank/src/temp/PhysicalRiskUniquePostalCodesAddresses_with_risk.xlsx')\n",
    "print(f\"Length of risk_data: {len(risk_data)}\")\n",
    "\n",
    "original_post_data = pd.read_excel('/home/savvas/SUPER-NAS/USERS/Chirag/PROJECTS/202501-EY-Bank/data/property-data/PhysicalRiskUniquePostalCodesAddresses.xlsx')\n",
    "print(f\"Length of original_post_data: {len(original_post_data)}\")\n",
    "\n",
    "# Extract postal codes from both dataframes\n",
    "risk_data_postal_code = risk_data['Postal Codes:']\n",
    "issue_post_code = list(set(original_post_data['Postal Codes:']) - set(risk_data_postal_code))\n",
    "\n",
    "# Filter the rows in the original data that correspond to the issue postal codes\n",
    "issue_data = original_post_data[original_post_data['Postal Codes:'].isin(issue_post_code)]\n",
    "\n",
    "# Save the issue data to an Excel file\n",
    "output_filepath = '/home/savvas/SUPER-NAS/USERS/Chirag/PROJECTS/202501-EY-Bank/src/temp/IssuePostalCodes.xlsx'\n",
    "issue_data.to_excel(output_filepath, index=False)\n",
    "print(f\"Issue data saved to {output_filepath}\")\n",
    "\n",
    "# Print summary\n",
    "print(f\"Number of issue postal codes: {len(issue_post_code)}\")\n",
    "print(f\"Number of rows in issue data: {len(issue_data)}\")\n"
   ]
  },
  {
   "cell_type": "code",
   "execution_count": null,
   "metadata": {},
   "outputs": [],
   "source": [
    "original_post_data['Postal Codes:']"
   ]
  }
 ],
 "metadata": {
  "kernelspec": {
   "display_name": "gisenv2",
   "language": "python",
   "name": "python3"
  },
  "language_info": {
   "codemirror_mode": {
    "name": "ipython",
    "version": 3
   },
   "file_extension": ".py",
   "mimetype": "text/x-python",
   "name": "python",
   "nbconvert_exporter": "python",
   "pygments_lexer": "ipython3",
   "version": "3.10.16"
  }
 },
 "nbformat": 4,
 "nbformat_minor": 2
}
